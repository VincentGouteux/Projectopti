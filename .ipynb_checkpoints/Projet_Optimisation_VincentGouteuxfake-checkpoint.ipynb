{
 "cells": [
  {
   "cell_type": "markdown",
   "metadata": {},
   "source": [
    "## Guidelines for the project:\n",
    "-You should use and extend the codes that were provided to you during the course. In particular you should not use external libraries such as ScikitLearn (you can only use them if you want to check that your results are correct).\n",
    "\n",
    "-You should apply this (possibly extended) code to at least one Machine Learning problem of your choice. It can be obtained for instance from LibSVM or Kaggle.\n",
    "\n",
    "-The project should explore numerically some aspects (at least one) of the theory seen during the lectures. A list of questions raised during the course are listed below.\n",
    "\n",
    "-The project should be done alone.\n"
   ]
  },
  {
   "cell_type": "markdown",
   "metadata": {},
   "source": [
    "-What is the impact of model selection (using the Lasso or other simpler selection method) on the prediction error?\n",
    "\n",
    "-Is using several layers for a multi-layers perceptron useful to improve the training and classification error?\n",
    "\n",
    "-When running a descent algorithm (such as gradient descent or forward backward), what is the impact of doing early stopping?\n",
    "\n",
    "-What is the impact of Nesterov acceleration on the training and prediction error in comparison to a non-accelerated method?\n",
    "\n",
    "-How do the properties of the cost function (in particular, but not only, its smoothness and strong convexity) influence the convergence rate of gradient/subgradient descent?\n",
    "\n",
    "-When running a stochastic optimization method, what is the impact of mini-batching and non-uniform sampling? How does mini-batching affect the stepsize? How does it affect the train and test error? Illustrate with numerical experiments.\n",
    "\n",
    "-Study the influence of momentum on gradient descent and stochastic gradient descent. Try and show numerically when and why momentum is useful for gradient descent. Is momentum useful for SGD for the same reasons? How does momentum affect the variance and convergence of SGD? Illustrate numerically. \n",
    "\n",
    "-Compare the performance of ridge, lasso.\n",
    "\n",
    "-Test other methods such as group lasso and elastic nets. \n",
    "\n",
    "-Study the support stability (sparsistency) of solutions to the Lasso.\n",
    "\n",
    "-Compare projected gradient descent and augmented Lagrangian on the PCA problem (computing unit eigenvectors, problem (1.4) in the lecture notes).\n",
    "\n",
    "-Compare the limit behavior of several optimization algorithms on a non-convex optimization problem (for instance, plain gradient descent, perturbed gradient descent, trust-region method …). Do they converge? If yes, do you think the limit point is a global optimum or simply a critical point? In the second case, how “good” is the critical point (that is, how small is the cost at this point)?\n",
    "\n"
   ]
  },
  {
   "cell_type": "code",
   "execution_count": 1025,
   "metadata": {},
   "outputs": [],
   "source": [
    "from matplotlib import pyplot as plt\n",
    "\n"
   ]
  },
  {
   "cell_type": "markdown",
   "metadata": {},
   "source": [
    "## Data Set Information:\n",
    "\n",
    "There are 10 predictors, all quantitative, and a binary dependent variable, indicating the presence or absence of breast cancer.\n",
    "The predictors are anthropometric data and parameters which can be gathered in routine blood analysis.\n",
    "Prediction models based on these predictors, if accurate, can potentially be used as a biomarker of breast cancer.\n",
    "\n",
    "\n",
    "\n",
    "### Quantitative Attributes:\n",
    "Age (years)\n",
    "BMI (kg/m2)\n",
    "Glucose (mg/dL)\n",
    "Insulin (µU/mL)\n",
    "HOMA\n",
    "Leptin (ng/mL)\n",
    "Adiponectin (µg/mL)\n",
    "Resistin (ng/mL)\n",
    "MCP-1(pg/dL)\n",
    "\n",
    "## Labels:\n",
    "1=Healthy controls\n",
    "2=Patients"
   ]
  },
  {
   "cell_type": "code",
   "execution_count": 1026,
   "metadata": {},
   "outputs": [],
   "source": [
    "import numpy as np\n",
    "import pandas as pd"
   ]
  },
  {
   "cell_type": "code",
   "execution_count": 1027,
   "metadata": {},
   "outputs": [
    {
     "data": {
      "text/html": [
       "<div>\n",
       "<style scoped>\n",
       "    .dataframe tbody tr th:only-of-type {\n",
       "        vertical-align: middle;\n",
       "    }\n",
       "\n",
       "    .dataframe tbody tr th {\n",
       "        vertical-align: top;\n",
       "    }\n",
       "\n",
       "    .dataframe thead th {\n",
       "        text-align: right;\n",
       "    }\n",
       "</style>\n",
       "<table border=\"1\" class=\"dataframe\">\n",
       "  <thead>\n",
       "    <tr style=\"text-align: right;\">\n",
       "      <th></th>\n",
       "      <th>id</th>\n",
       "      <th>clump_thickness</th>\n",
       "      <th>size_uniformity</th>\n",
       "      <th>shape_uniformity</th>\n",
       "      <th>marginal_adhesion</th>\n",
       "      <th>epithelial_size</th>\n",
       "      <th>bare_nucleoli</th>\n",
       "      <th>bland_chromatin</th>\n",
       "      <th>normal_nucleoli</th>\n",
       "      <th>mitoses</th>\n",
       "      <th>class</th>\n",
       "    </tr>\n",
       "  </thead>\n",
       "  <tbody>\n",
       "    <tr>\n",
       "      <th>0</th>\n",
       "      <td>1000025</td>\n",
       "      <td>5</td>\n",
       "      <td>1</td>\n",
       "      <td>1</td>\n",
       "      <td>1</td>\n",
       "      <td>2</td>\n",
       "      <td>1</td>\n",
       "      <td>3</td>\n",
       "      <td>1</td>\n",
       "      <td>1</td>\n",
       "      <td>2</td>\n",
       "    </tr>\n",
       "    <tr>\n",
       "      <th>1</th>\n",
       "      <td>1002945</td>\n",
       "      <td>5</td>\n",
       "      <td>4</td>\n",
       "      <td>4</td>\n",
       "      <td>5</td>\n",
       "      <td>7</td>\n",
       "      <td>10</td>\n",
       "      <td>3</td>\n",
       "      <td>2</td>\n",
       "      <td>1</td>\n",
       "      <td>2</td>\n",
       "    </tr>\n",
       "    <tr>\n",
       "      <th>2</th>\n",
       "      <td>1015425</td>\n",
       "      <td>3</td>\n",
       "      <td>1</td>\n",
       "      <td>1</td>\n",
       "      <td>1</td>\n",
       "      <td>2</td>\n",
       "      <td>2</td>\n",
       "      <td>3</td>\n",
       "      <td>1</td>\n",
       "      <td>1</td>\n",
       "      <td>2</td>\n",
       "    </tr>\n",
       "    <tr>\n",
       "      <th>3</th>\n",
       "      <td>1016277</td>\n",
       "      <td>6</td>\n",
       "      <td>8</td>\n",
       "      <td>8</td>\n",
       "      <td>1</td>\n",
       "      <td>3</td>\n",
       "      <td>4</td>\n",
       "      <td>3</td>\n",
       "      <td>7</td>\n",
       "      <td>1</td>\n",
       "      <td>2</td>\n",
       "    </tr>\n",
       "    <tr>\n",
       "      <th>4</th>\n",
       "      <td>1017023</td>\n",
       "      <td>4</td>\n",
       "      <td>1</td>\n",
       "      <td>1</td>\n",
       "      <td>3</td>\n",
       "      <td>2</td>\n",
       "      <td>1</td>\n",
       "      <td>3</td>\n",
       "      <td>1</td>\n",
       "      <td>1</td>\n",
       "      <td>2</td>\n",
       "    </tr>\n",
       "  </tbody>\n",
       "</table>\n",
       "</div>"
      ],
      "text/plain": [
       "        id  clump_thickness  size_uniformity  shape_uniformity  \\\n",
       "0  1000025                5                1                 1   \n",
       "1  1002945                5                4                 4   \n",
       "2  1015425                3                1                 1   \n",
       "3  1016277                6                8                 8   \n",
       "4  1017023                4                1                 1   \n",
       "\n",
       "   marginal_adhesion  epithelial_size bare_nucleoli  bland_chromatin  \\\n",
       "0                  1                2             1                3   \n",
       "1                  5                7            10                3   \n",
       "2                  1                2             2                3   \n",
       "3                  1                3             4                3   \n",
       "4                  3                2             1                3   \n",
       "\n",
       "   normal_nucleoli  mitoses  class  \n",
       "0                1        1      2  \n",
       "1                2        1      2  \n",
       "2                1        1      2  \n",
       "3                7        1      2  \n",
       "4                1        1      2  "
      ]
     },
     "execution_count": 1027,
     "metadata": {},
     "output_type": "execute_result"
    }
   ],
   "source": [
    "# Data overview\n",
    "df = pd.read_csv('breastCancer.csv')\n",
    "df.head()"
   ]
  },
  {
   "cell_type": "code",
   "execution_count": 1028,
   "metadata": {},
   "outputs": [],
   "source": [
    "index_missing_values = []\n",
    "for i,r in df.iterrows():\n",
    "    for j in range (df.shape[1]):\n",
    "            if (r[j] == '?'):\n",
    "                index_missing_values.append(i)"
   ]
  },
  {
   "cell_type": "code",
   "execution_count": 1029,
   "metadata": {},
   "outputs": [],
   "source": [
    "# Cleaning\n",
    "df = df.drop(index_missing_values)\n",
    "df['class'] = df['class']-3\n",
    "X = df.iloc[:,1:10]\n",
    "y = df['class']"
   ]
  },
  {
   "cell_type": "code",
   "execution_count": 1030,
   "metadata": {},
   "outputs": [],
   "source": [
    "X = X.to_numpy()\n",
    "y = y.to_numpy()\n",
    "y = np.reshape(y,(683,1))"
   ]
  },
  {
   "cell_type": "code",
   "execution_count": 1031,
   "metadata": {
    "scrolled": true
   },
   "outputs": [
    {
     "name": "stdout",
     "output_type": "stream",
     "text": [
      "(683, 9) (683, 1)\n"
     ]
    }
   ],
   "source": [
    "print(X.shape, y.shape)"
   ]
  },
  {
   "cell_type": "code",
   "execution_count": 1032,
   "metadata": {},
   "outputs": [],
   "source": [
    "n = X.shape[0]"
   ]
  },
  {
   "cell_type": "code",
   "execution_count": 1033,
   "metadata": {},
   "outputs": [
    {
     "name": "stderr",
     "output_type": "stream",
     "text": [
      "C:\\Users\\vince\\Anaconda3\\lib\\site-packages\\sklearn\\utils\\validation.py:595: DataConversionWarning: Data with input dtype object was converted to float64 by StandardScaler.\n",
      "  warnings.warn(msg, DataConversionWarning)\n",
      "C:\\Users\\vince\\Anaconda3\\lib\\site-packages\\sklearn\\utils\\validation.py:595: DataConversionWarning: Data with input dtype object was converted to float64 by StandardScaler.\n",
      "  warnings.warn(msg, DataConversionWarning)\n"
     ]
    }
   ],
   "source": [
    "from sklearn.preprocessing import StandardScaler\n",
    "X = StandardScaler().fit_transform(X)\n",
    "#Normalizing the datas"
   ]
  },
  {
   "cell_type": "code",
   "execution_count": 1034,
   "metadata": {},
   "outputs": [],
   "source": [
    "from sklearn.decomposition import PCA\n",
    "pca = PCA(n_components=2)\n",
    "principalComponents = pca.fit_transform(X)\n",
    "X_PCA = pd.DataFrame(data = principalComponents\n",
    "             , columns = ['principal component 1', 'principal component 2'])"
   ]
  },
  {
   "cell_type": "code",
   "execution_count": 1035,
   "metadata": {},
   "outputs": [],
   "source": [
    "X_viz = pd.concat([X_PCA, df['class']], axis = 1)\n"
   ]
  },
  {
   "cell_type": "code",
   "execution_count": 1036,
   "metadata": {},
   "outputs": [
    {
     "data": {
      "text/html": [
       "<div>\n",
       "<style scoped>\n",
       "    .dataframe tbody tr th:only-of-type {\n",
       "        vertical-align: middle;\n",
       "    }\n",
       "\n",
       "    .dataframe tbody tr th {\n",
       "        vertical-align: top;\n",
       "    }\n",
       "\n",
       "    .dataframe thead th {\n",
       "        text-align: right;\n",
       "    }\n",
       "</style>\n",
       "<table border=\"1\" class=\"dataframe\">\n",
       "  <thead>\n",
       "    <tr style=\"text-align: right;\">\n",
       "      <th></th>\n",
       "      <th>principal component 1</th>\n",
       "      <th>principal component 2</th>\n",
       "      <th>class</th>\n",
       "    </tr>\n",
       "  </thead>\n",
       "  <tbody>\n",
       "    <tr>\n",
       "      <th>0</th>\n",
       "      <td>-1.470171</td>\n",
       "      <td>-0.104273</td>\n",
       "      <td>-1.0</td>\n",
       "    </tr>\n",
       "    <tr>\n",
       "      <th>1</th>\n",
       "      <td>1.442046</td>\n",
       "      <td>-0.570141</td>\n",
       "      <td>-1.0</td>\n",
       "    </tr>\n",
       "    <tr>\n",
       "      <th>2</th>\n",
       "      <td>-1.592478</td>\n",
       "      <td>-0.076120</td>\n",
       "      <td>-1.0</td>\n",
       "    </tr>\n",
       "    <tr>\n",
       "      <th>3</th>\n",
       "      <td>1.479812</td>\n",
       "      <td>-0.528452</td>\n",
       "      <td>-1.0</td>\n",
       "    </tr>\n",
       "    <tr>\n",
       "      <th>4</th>\n",
       "      <td>-1.344862</td>\n",
       "      <td>-0.090719</td>\n",
       "      <td>-1.0</td>\n",
       "    </tr>\n",
       "  </tbody>\n",
       "</table>\n",
       "</div>"
      ],
      "text/plain": [
       "   principal component 1  principal component 2  class\n",
       "0              -1.470171              -0.104273   -1.0\n",
       "1               1.442046              -0.570141   -1.0\n",
       "2              -1.592478              -0.076120   -1.0\n",
       "3               1.479812              -0.528452   -1.0\n",
       "4              -1.344862              -0.090719   -1.0"
      ]
     },
     "execution_count": 1036,
     "metadata": {},
     "output_type": "execute_result"
    }
   ],
   "source": [
    "X_viz.head()"
   ]
  },
  {
   "cell_type": "code",
   "execution_count": 1037,
   "metadata": {},
   "outputs": [
    {
     "data": {
      "image/png": "[encoded data removed]",
      "text/plain": [
       "<Figure size 576x576 with 1 Axes>"
      ]
     },
     "metadata": {
      "needs_background": "light"
     },
     "output_type": "display_data"
    }
   ],
   "source": [
    "fig = plt.figure(figsize = (8,8))\n",
    "ax = fig.add_subplot(1,1,1) \n",
    "ax.set_xlabel('Principal Component 1', fontsize = 15)\n",
    "ax.set_ylabel('Principal Component 2', fontsize = 15)\n",
    "ax.set_title('2 component PCA', fontsize = 20)\n",
    "targets = [-1,1]\n",
    "colors = ['r', 'g']\n",
    "for target, color in zip(targets,colors):\n",
    "    indicesToKeep = X_viz['class'] == target\n",
    "    ax.scatter(X_viz.loc[indicesToKeep, 'principal component 1']\n",
    "               , X_viz.loc[indicesToKeep, 'principal component 2']\n",
    "               , c = color\n",
    "               , s = 50)\n",
    "ax.legend(targets)\n",
    "ax.grid()"
   ]
  },
  {
   "cell_type": "code",
   "execution_count": 1038,
   "metadata": {},
   "outputs": [],
   "source": [
    "def L(s,y):  return 1/n * np.sum(np.log( 1 + np.exp(-np.dot(s,y.T) ) ))\n",
    "def E(w,X,y): return L(X.dot(w),y);"
   ]
  },
  {
   "cell_type": "code",
   "execution_count": 1039,
   "metadata": {},
   "outputs": [],
   "source": [
    "def theta(v): \n",
    "    return (1 / (1+np.exp(-v)))\n",
    "def nablaL(s,r): \n",
    "    res = - 1/n * r * theta(-np.dot(r.T,s))\n",
    "    return (res)\n",
    "def nablaE(w,X,y):\n",
    "    d = nablaL(X.dot(w),y)\n",
    "    print(d.shape)\n",
    "    print(\"zouave\")\n",
    "    return (X.transpose().dot(d))"
   ]
  },
  {
   "cell_type": "code",
   "execution_count": 1040,
   "metadata": {},
   "outputs": [],
   "source": [
    "def AddBias(X): return np.hstack((X, np.ones((np.size(X,0),1))))\n",
    "X = AddBias(X)"
   ]
  },
  {
   "cell_type": "code",
   "execution_count": 1041,
   "metadata": {},
   "outputs": [],
   "source": [
    "w = np.zeros((10,1))"
   ]
  },
  {
   "cell_type": "code",
   "execution_count": 1042,
   "metadata": {},
   "outputs": [
    {
     "data": {
      "text/plain": [
       "(10, 1)"
      ]
     },
     "execution_count": 1042,
     "metadata": {},
     "output_type": "execute_result"
    }
   ],
   "source": [
    "w.shape"
   ]
  },
  {
   "cell_type": "code",
   "execution_count": 1043,
   "metadata": {},
   "outputs": [
    {
     "name": "stdout",
     "output_type": "stream",
     "text": [
      "(683, 1)\n",
      "zouave\n"
     ]
    }
   ],
   "source": [
    "tau = 1; # here we are using a fixed tau\n",
    "w = w - tau * nablaE(w,(X),y)\n"
   ]
  },
  {
   "cell_type": "code",
   "execution_count": 1044,
   "metadata": {
    "scrolled": true
   },
   "outputs": [
    {
     "name": "stdout",
     "output_type": "stream",
     "text": [
      "0.001985427924128867\n"
     ]
    }
   ],
   "source": [
    "np.linalg.norm(X)\n",
    "tau_max = 2/(1/4 * np.linalg.norm((X), 2)**2 )\n",
    "print(tau_max)"
   ]
  },
  {
   "cell_type": "code",
   "execution_count": 1045,
   "metadata": {},
   "outputs": [
    {
     "name": "stdout",
     "output_type": "stream",
     "text": [
      "(10, 1)\n",
      "(683, 1)\n",
      "zouave\n",
      "[[0.]\n",
      " [0.]\n",
      " [0.]\n",
      " [0.]\n",
      " [0.]\n",
      " [0.]\n",
      " [0.]\n",
      " [0.]\n",
      " [0.]\n",
      " [0.]] 1 [[-0.34091661]\n",
      " [-0.39147843]\n",
      " [-0.39199807]\n",
      " [-0.33686457]\n",
      " [-0.32955013]\n",
      " [-0.39238198]\n",
      " [-0.36163403]\n",
      " [-0.34277062]\n",
      " [-0.20196203]\n",
      " [ 0.15007321]]\n",
      "(683, 1)\n",
      "zouave\n",
      "856.3950254964237\n",
      "(10, 1)\n",
      "(683, 1)\n",
      "zouave\n",
      "[[ 0.34091661]\n",
      " [ 0.39147843]\n",
      " [ 0.39199807]\n",
      " [ 0.33686457]\n",
      " [ 0.32955013]\n",
      " [ 0.39238198]\n",
      " [ 0.36163403]\n",
      " [ 0.34277062]\n",
      " [ 0.20196203]\n",
      " [-0.15007321]] 1 [[0.]\n",
      " [0.]\n",
      " [0.]\n",
      " [0.]\n",
      " [0.]\n",
      " [0.]\n",
      " [0.]\n",
      " [0.]\n",
      " [0.]\n",
      " [0.]]\n",
      "(683, 1)\n",
      "zouave\n",
      "856.3950254964237\n",
      "(10, 1)\n",
      "(683, 1)\n",
      "zouave\n",
      "[[ 0.34091661]\n",
      " [ 0.39147843]\n",
      " [ 0.39199807]\n",
      " [ 0.33686457]\n",
      " [ 0.32955013]\n",
      " [ 0.39238198]\n",
      " [ 0.36163403]\n",
      " [ 0.34277062]\n",
      " [ 0.20196203]\n",
      " [-0.15007321]] 1 [[0.]\n",
      " [0.]\n",
      " [0.]\n",
      " [0.]\n",
      " [0.]\n",
      " [0.]\n",
      " [0.]\n",
      " [0.]\n",
      " [0.]\n",
      " [0.]]\n",
      "(683, 1)\n",
      "zouave\n",
      "856.3950254964237\n",
      "(10, 1)\n",
      "(683, 1)\n",
      "zouave\n",
      "[[ 0.34091661]\n",
      " [ 0.39147843]\n",
      " [ 0.39199807]\n",
      " [ 0.33686457]\n",
      " [ 0.32955013]\n",
      " [ 0.39238198]\n",
      " [ 0.36163403]\n",
      " [ 0.34277062]\n",
      " [ 0.20196203]\n",
      " [-0.15007321]] 1 [[0.]\n",
      " [0.]\n",
      " [0.]\n",
      " [0.]\n",
      " [0.]\n",
      " [0.]\n",
      " [0.]\n",
      " [0.]\n",
      " [0.]\n",
      " [0.]]\n",
      "(683, 1)\n",
      "zouave\n",
      "856.3950254964237\n",
      "(10, 1)\n",
      "(683, 1)\n",
      "zouave\n",
      "[[ 0.34091661]\n",
      " [ 0.39147843]\n",
      " [ 0.39199807]\n",
      " [ 0.33686457]\n",
      " [ 0.32955013]\n",
      " [ 0.39238198]\n",
      " [ 0.36163403]\n",
      " [ 0.34277062]\n",
      " [ 0.20196203]\n",
      " [-0.15007321]] 1 [[0.]\n",
      " [0.]\n",
      " [0.]\n",
      " [0.]\n",
      " [0.]\n",
      " [0.]\n",
      " [0.]\n",
      " [0.]\n",
      " [0.]\n",
      " [0.]]\n",
      "(683, 1)\n",
      "zouave\n",
      "856.3950254964237\n"
     ]
    },
    {
     "data": {
      "image/png": "[encoded data removed]",
      "text/plain": [
       "<Figure size 432x288 with 2 Axes>"
      ]
     },
     "metadata": {
      "needs_background": "light"
     },
     "output_type": "display_data"
    }
   ],
   "source": [
    "niter = 5\n",
    "Elist = np.zeros([niter,1])\n",
    "w = np.zeros( (10,1) ) # initialization\n",
    "for i in np.arange(0,niter):\n",
    "    print(w.shape)\n",
    "    print(w,tau,nablaE(w,X,y))\n",
    "    w = w - tau * nablaE(w,X,y)\n",
    "    Elist[i] = E(w,X,y)\n",
    "    print(E(w,X,y))\n",
    "ndisp = int(niter/2)\n",
    "\n",
    "## display ##\n",
    "plt.clf\n",
    "plt.subplot(2,1,1)\n",
    "plt.plot(np.arange(0,ndisp), Elist[0:ndisp])\n",
    "plt.axis('tight')\n",
    "plt.title('$E(w_l)$')\n",
    "plt.subplot(2,1,2);\n",
    "plt.plot(np.arange(10,ndisp), np.log10(Elist[10:ndisp]-np.min(Elist))  )\n",
    "plt.axis('tight')\n",
    "plt.title('$log(E(w_l) - min E)$');"
   ]
  },
  {
   "cell_type": "code",
   "execution_count": 1046,
   "metadata": {},
   "outputs": [
    {
     "data": {
      "text/plain": [
       "array([[856.3950255],\n",
       "       [856.3950255],\n",
       "       [856.3950255],\n",
       "       [856.3950255],\n",
       "       [856.3950255]])"
      ]
     },
     "execution_count": 1046,
     "metadata": {},
     "output_type": "execute_result"
    }
   ],
   "source": [
    "Elist"
   ]
  },
  {
   "cell_type": "code",
   "execution_count": 1024,
   "metadata": {},
   "outputs": [
    {
     "ename": "IndexError",
     "evalue": "index 1 is out of bounds for axis 1 with size 1",
     "output_type": "error",
     "traceback": [
      "\u001b[1;31m---------------------------------------------------------------------------\u001b[0m",
      "\u001b[1;31mIndexError\u001b[0m                                Traceback (most recent call last)",
      "\u001b[1;32m<ipython-input-1024-e0646520f8d9>\u001b[0m in \u001b[0;36m<module>\u001b[1;34m\u001b[0m\n\u001b[1;32m----> 1\u001b[1;33m \u001b[0mw\u001b[0m\u001b[1;33m[\u001b[0m\u001b[1;33m:\u001b[0m\u001b[1;33m,\u001b[0m\u001b[1;36m1\u001b[0m\u001b[1;33m]\u001b[0m\u001b[1;33m\u001b[0m\u001b[1;33m\u001b[0m\u001b[0m\n\u001b[0m",
      "\u001b[1;31mIndexError\u001b[0m: index 1 is out of bounds for axis 1 with size 1"
     ]
    }
   ],
   "source": [
    "w[:,1]"
   ]
  },
  {
   "cell_type": "code",
   "execution_count": null,
   "metadata": {},
   "outputs": [],
   "source": [
    "w.shape"
   ]
  },
  {
   "cell_type": "code",
   "execution_count": null,
   "metadata": {},
   "outputs": [],
   "source": [
    "y.shape"
   ]
  },
  {
   "cell_type": "code",
   "execution_count": null,
   "metadata": {},
   "outputs": [],
   "source": []
  },
  {
   "cell_type": "code",
   "execution_count": null,
   "metadata": {},
   "outputs": [],
   "source": []
  },
  {
   "cell_type": "code",
   "execution_count": null,
   "metadata": {},
   "outputs": [],
   "source": []
  },
  {
   "cell_type": "code",
   "execution_count": null,
   "metadata": {},
   "outputs": [],
   "source": []
  },
  {
   "cell_type": "code",
   "execution_count": null,
   "metadata": {},
   "outputs": [],
   "source": []
  },
  {
   "cell_type": "code",
   "execution_count": null,
   "metadata": {},
   "outputs": [],
   "source": []
  },
  {
   "cell_type": "code",
   "execution_count": null,
   "metadata": {},
   "outputs": [],
   "source": []
  },
  {
   "cell_type": "code",
   "execution_count": null,
   "metadata": {},
   "outputs": [],
   "source": []
  },
  {
   "cell_type": "code",
   "execution_count": null,
   "metadata": {},
   "outputs": [],
   "source": []
  },
  {
   "cell_type": "code",
   "execution_count": null,
   "metadata": {},
   "outputs": [],
   "source": []
  },
  {
   "cell_type": "code",
   "execution_count": null,
   "metadata": {},
   "outputs": [],
   "source": []
  },
  {
   "cell_type": "code",
   "execution_count": null,
   "metadata": {},
   "outputs": [],
   "source": []
  },
  {
   "cell_type": "code",
   "execution_count": null,
   "metadata": {},
   "outputs": [],
   "source": []
  },
  {
   "cell_type": "code",
   "execution_count": null,
   "metadata": {},
   "outputs": [],
   "source": []
  },
  {
   "cell_type": "code",
   "execution_count": null,
   "metadata": {},
   "outputs": [],
   "source": []
  }
 ],
 "metadata": {
  "kernelspec": {
   "display_name": "Python 3",
   "language": "python",
   "name": "python3"
  },
  "language_info": {
   "codemirror_mode": {
    "name": "ipython",
    "version": 3
   },
   "file_extension": ".py",
   "mimetype": "text/x-python",
   "name": "python",
   "nbconvert_exporter": "python",
   "pygments_lexer": "ipython3",
   "version": "3.7.3"
  }
 },
 "nbformat": 4,
 "nbformat_minor": 2
}
